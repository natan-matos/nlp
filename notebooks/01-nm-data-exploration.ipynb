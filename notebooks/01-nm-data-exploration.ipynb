{
 "cells": [
  {
   "cell_type": "markdown",
   "metadata": {},
   "source": [
    "# 0.0 Imports"
   ]
  },
  {
   "cell_type": "code",
   "execution_count": 93,
   "metadata": {},
   "outputs": [],
   "source": [
    "import re\n",
    "import requests\n",
    "import torch\n",
    "import nltk\n",
    "import numpy as np\n",
    "import pandas as pd\n",
    "import seaborn as sns\n",
    "import matplotlib.pyplot as plt\n",
    "\n",
    "from transformers import AutoTokenizer,AutoModelForSequenceClassification\n",
    "from bs4 import BeautifulSoup\n",
    "from tqdm import tqdm  \n",
    "from nltk.sentiment import SentimentIntensityAnalyzer\n",
    "from tqdm.notebook import tqdm\n",
    "from transformers import AutoTokenizer, AutoModelForSequenceClassification, pipeline\n",
    "from scipy.special import softmax\n",
    "\n",
    "from sklearn.metrics import precision_score"
   ]
  },
  {
   "cell_type": "markdown",
   "metadata": {},
   "source": [
    "## Data Mining"
   ]
  },
  {
   "cell_type": "code",
   "execution_count": null,
   "metadata": {},
   "outputs": [],
   "source": [
    "pages = list(range(10, 1600, 10))\n",
    "reviews = []\n",
    "\n",
    "\n",
    "for page in pages:\n",
    "    # Construct the URL with the 'start' parameter\n",
    "    url = f'https://www.yelp.com/biz/fogo-de-chão-brazilian-steakhouse-san-diego-3?start={page}'\n",
    "\n",
    "    r = requests.get(url)\n",
    "    soup = BeautifulSoup(r.text, 'html.parser')\n",
    "    \n",
    "    # getting comments\n",
    "    regex = re.compile('.*comment.*')\n",
    "    results = soup.find_all('p', {'class': regex})\n",
    "\n",
    "    # getting stars\n",
    "    regex_stars = re.compile('.*stars.*')\n",
    "    ratings = soup.find_all('div', {'class': regex_stars})\n",
    "    \n",
    "    # Iterate elements to pair\n",
    "    for result, rating in zip(results, ratings):\n",
    "        rating_text = rating.get_text(strip=True)\n",
    "        \n",
    "        if re.match(r'^\\d+(\\.\\d+)?$', rating_text):\n",
    "            number = '0'\n",
    "\n",
    "        else:\n",
    "            aria_label = rating['aria-label']\n",
    "            number = (aria_label.split()[0])\n",
    "\n",
    "        # append\n",
    "        reviews.append((result.text, number))\n",
    "    \n",
    "\n",
    "# 'reviews' now contains reviews from multiple pages\n",
    "print(len(reviews), 'reviews scraped in total.')"
   ]
  },
  {
   "cell_type": "code",
   "execution_count": null,
   "metadata": {},
   "outputs": [],
   "source": [
    "# load reviews into dataframe and score it\n",
    "df = pd.DataFrame(reviews, columns=['review', 'vote'])\n",
    "\n",
    "for i in range(len(df)):\n",
    "    if df.loc[i, 'vote'] == '(no':\n",
    "        df.loc[i, 'vote'] = '0'\n",
    "df['vote'] = df['vote'].astype(np.float64)"
   ]
  },
  {
   "cell_type": "markdown",
   "metadata": {},
   "source": [
    "### 0.2 Load Data"
   ]
  },
  {
   "cell_type": "code",
   "execution_count": 109,
   "metadata": {},
   "outputs": [],
   "source": [
    "df = pd.read_csv('../data/raw/fogo_reviews.csv').reset_index()\n",
    "df = df.drop(['Unnamed: 0'], axis=1)"
   ]
  },
  {
   "cell_type": "markdown",
   "metadata": {},
   "source": [
    "# 1.0 Data Description"
   ]
  },
  {
   "cell_type": "markdown",
   "metadata": {},
   "source": [
    "## 1.1 Data Dimensions"
   ]
  },
  {
   "cell_type": "code",
   "execution_count": 16,
   "metadata": {},
   "outputs": [
    {
     "name": "stdout",
     "output_type": "stream",
     "text": [
      "<class 'pandas.core.frame.DataFrame'>\n",
      "RangeIndex: 1963 entries, 0 to 1962\n",
      "Data columns (total 2 columns):\n",
      " #   Column  Non-Null Count  Dtype  \n",
      "---  ------  --------------  -----  \n",
      " 0   review  1963 non-null   object \n",
      " 1   vote    1963 non-null   float64\n",
      "dtypes: float64(1), object(1)\n",
      "memory usage: 30.8+ KB\n"
     ]
    }
   ],
   "source": [
    "df.info()"
   ]
  },
  {
   "cell_type": "markdown",
   "metadata": {},
   "source": [
    "## 1.2 Descriptive Statistics"
   ]
  },
  {
   "cell_type": "markdown",
   "metadata": {},
   "source": [
    "### Numerical"
   ]
  },
  {
   "cell_type": "code",
   "execution_count": 21,
   "metadata": {},
   "outputs": [
    {
     "data": {
      "image/png": "[encoded data removed]",
      "text/plain": [
       "<Figure size 500x500 with 1 Axes>"
      ]
     },
     "metadata": {},
     "output_type": "display_data"
    }
   ],
   "source": [
    "sns.displot(data=df, x='vote');"
   ]
  },
  {
   "cell_type": "markdown",
   "metadata": {},
   "source": [
    "# 2.0 Machine Learnign Modeling"
   ]
  },
  {
   "cell_type": "markdown",
   "metadata": {},
   "source": [
    "### 2.1 VADER Model"
   ]
  },
  {
   "cell_type": "code",
   "execution_count": 22,
   "metadata": {},
   "outputs": [],
   "source": [
    "# define the model\n",
    "sia = SentimentIntensityAnalyzer()"
   ]
  },
  {
   "cell_type": "code",
   "execution_count": 28,
   "metadata": {},
   "outputs": [
    {
     "data": {
      "application/vnd.jupyter.widget-view+json": {
       "model_id": "6ac1022b79fb4a52b3011ecbc480d494",
       "version_major": 2,
       "version_minor": 0
      },
      "text/plain": [
       "  0%|          | 0/1963 [00:00<?, ?it/s]"
      ]
     },
     "metadata": {},
     "output_type": "display_data"
    }
   ],
   "source": [
    "# run polarity score on the entire dataset\n",
    "res = {}\n",
    "for i, row in tqdm(df.iterrows(), total=len(df)):\n",
    "    text = row['review']\n",
    "    my_id = row['index']\n",
    "    res[my_id] = sia.polarity_scores(text)"
   ]
  },
  {
   "cell_type": "code",
   "execution_count": 89,
   "metadata": {},
   "outputs": [],
   "source": [
    "# merge predictions to the original df\n",
    "vaders = pd.DataFrame(res).T\n",
    "vaders = vaders.reset_index()\n",
    "vaders = vaders.merge(df, how='left')\n",
    "vaders = vaders[['index', 'neg', 'neu', 'pos', 'compound', 'vote', 'review']]"
   ]
  },
  {
   "cell_type": "code",
   "execution_count": 90,
   "metadata": {},
   "outputs": [
    {
     "data": {
      "text/html": [
       "<div>\n",
       "<style scoped>\n",
       "    .dataframe tbody tr th:only-of-type {\n",
       "        vertical-align: middle;\n",
       "    }\n",
       "\n",
       "    .dataframe tbody tr th {\n",
       "        vertical-align: top;\n",
       "    }\n",
       "\n",
       "    .dataframe thead th {\n",
       "        text-align: right;\n",
       "    }\n",
       "</style>\n",
       "<table border=\"1\" class=\"dataframe\">\n",
       "  <thead>\n",
       "    <tr style=\"text-align: right;\">\n",
       "      <th></th>\n",
       "      <th>index</th>\n",
       "      <th>neg</th>\n",
       "      <th>neu</th>\n",
       "      <th>pos</th>\n",
       "      <th>compound</th>\n",
       "      <th>vote</th>\n",
       "      <th>review</th>\n",
       "    </tr>\n",
       "  </thead>\n",
       "  <tbody>\n",
       "    <tr>\n",
       "      <th>0</th>\n",
       "      <td>0</td>\n",
       "      <td>0.000</td>\n",
       "      <td>0.789</td>\n",
       "      <td>0.211</td>\n",
       "      <td>0.9775</td>\n",
       "      <td>4.0</td>\n",
       "      <td>A truly mediocre meal.  We went for Saturday b...</td>\n",
       "    </tr>\n",
       "    <tr>\n",
       "      <th>1</th>\n",
       "      <td>1</td>\n",
       "      <td>0.023</td>\n",
       "      <td>0.697</td>\n",
       "      <td>0.280</td>\n",
       "      <td>0.9530</td>\n",
       "      <td>0.0</td>\n",
       "      <td>Serving exceptional meals is what we strive fo...</td>\n",
       "    </tr>\n",
       "    <tr>\n",
       "      <th>2</th>\n",
       "      <td>2</td>\n",
       "      <td>0.025</td>\n",
       "      <td>0.604</td>\n",
       "      <td>0.370</td>\n",
       "      <td>0.9924</td>\n",
       "      <td>4.0</td>\n",
       "      <td>We found an amazing deal on instagram for a sp...</td>\n",
       "    </tr>\n",
       "    <tr>\n",
       "      <th>3</th>\n",
       "      <td>3</td>\n",
       "      <td>0.032</td>\n",
       "      <td>0.924</td>\n",
       "      <td>0.044</td>\n",
       "      <td>0.3086</td>\n",
       "      <td>3.0</td>\n",
       "      <td>So we came downtown today to see a Filipino ar...</td>\n",
       "    </tr>\n",
       "    <tr>\n",
       "      <th>4</th>\n",
       "      <td>4</td>\n",
       "      <td>0.022</td>\n",
       "      <td>0.798</td>\n",
       "      <td>0.180</td>\n",
       "      <td>0.9741</td>\n",
       "      <td>5.0</td>\n",
       "      <td>I had always heard of Fogo Dr Chão so I decide...</td>\n",
       "    </tr>\n",
       "  </tbody>\n",
       "</table>\n",
       "</div>"
      ],
      "text/plain": [
       "   index    neg    neu    pos  compound  vote  \\\n",
       "0      0  0.000  0.789  0.211    0.9775   4.0   \n",
       "1      1  0.023  0.697  0.280    0.9530   0.0   \n",
       "2      2  0.025  0.604  0.370    0.9924   4.0   \n",
       "3      3  0.032  0.924  0.044    0.3086   3.0   \n",
       "4      4  0.022  0.798  0.180    0.9741   5.0   \n",
       "\n",
       "                                              review  \n",
       "0  A truly mediocre meal.  We went for Saturday b...  \n",
       "1  Serving exceptional meals is what we strive fo...  \n",
       "2  We found an amazing deal on instagram for a sp...  \n",
       "3  So we came downtown today to see a Filipino ar...  \n",
       "4  I had always heard of Fogo Dr Chão so I decide...  "
      ]
     },
     "execution_count": 90,
     "metadata": {},
     "output_type": "execute_result"
    }
   ],
   "source": [
    "vaders.head()"
   ]
  },
  {
   "cell_type": "code",
   "execution_count": 92,
   "metadata": {},
   "outputs": [
    {
     "data": {
      "image/png": "[encoded data removed]",
      "text/plain": [
       "<Figure size 640x480 with 1 Axes>"
      ]
     },
     "metadata": {},
     "output_type": "display_data"
    }
   ],
   "source": [
    "sns.barplot(data=vaders, x='vote', y='compound');"
   ]
  },
  {
   "cell_type": "code",
   "execution_count": 95,
   "metadata": {},
   "outputs": [
    {
     "data": {
      "image/png": "[encoded data removed]",
      "text/plain": [
       "<Figure size 1500x500 with 3 Axes>"
      ]
     },
     "metadata": {},
     "output_type": "display_data"
    }
   ],
   "source": [
    "fig, axs = plt.subplots(1, 3, figsize=(15,5))\n",
    "sns.barplot(data=vaders, x='vote', y='pos', ax=axs[0]);\n",
    "sns.barplot(data=vaders, x='vote', y='neg', ax=axs[1]);\n",
    "sns.barplot(data=vaders, x='vote', y='neu', ax=axs[2]);\n",
    "axs[0].set_title('Positeve')\n",
    "axs[1].set_title('Negative')\n",
    "axs[2].set_title('Neutral')\n",
    "plt.tight_layout()"
   ]
  },
  {
   "cell_type": "markdown",
   "metadata": {},
   "source": [
    "### Transformers Pipeline"
   ]
  },
  {
   "cell_type": "code",
   "execution_count": 142,
   "metadata": {},
   "outputs": [
    {
     "name": "stderr",
     "output_type": "stream",
     "text": [
      "No model was supplied, defaulted to distilbert-base-uncased-finetuned-sst-2-english and revision af0f99b (https://huggingface.co/distilbert-base-uncased-finetuned-sst-2-english).\n",
      "Using a pipeline without specifying a model name and revision in production is not recommended.\n"
     ]
    }
   ],
   "source": [
    "# define model\n",
    "sent_pipeline = pipeline('sentiment-analysis')"
   ]
  },
  {
   "cell_type": "code",
   "execution_count": 143,
   "metadata": {},
   "outputs": [
    {
     "data": {
      "application/vnd.jupyter.widget-view+json": {
       "model_id": "25e03bc659934f1d8684ebae0dc1b61c",
       "version_major": 2,
       "version_minor": 0
      },
      "text/plain": [
       "  0%|          | 0/1963 [00:00<?, ?it/s]"
      ]
     },
     "metadata": {},
     "output_type": "display_data"
    },
    {
     "name": "stderr",
     "output_type": "stream",
     "text": [
      "Token indices sequence length is longer than the specified maximum sequence length for this model (644 > 512). Running this sequence through the model will result in indexing errors\n"
     ]
    },
    {
     "name": "stdout",
     "output_type": "stream",
     "text": [
      "Broke for id 20\n",
      "Broke for id 43\n",
      "Broke for id 63\n",
      "Broke for id 77\n",
      "Broke for id 146\n",
      "Broke for id 147\n",
      "Broke for id 184\n",
      "Broke for id 285\n",
      "Broke for id 364\n",
      "Broke for id 392\n",
      "Broke for id 393\n",
      "Broke for id 394\n",
      "Broke for id 439\n",
      "Broke for id 467\n",
      "Broke for id 475\n",
      "Broke for id 561\n",
      "Broke for id 598\n",
      "Broke for id 634\n",
      "Broke for id 655\n",
      "Broke for id 672\n",
      "Broke for id 783\n",
      "Broke for id 926\n",
      "Broke for id 951\n",
      "Broke for id 957\n",
      "Broke for id 958\n",
      "Broke for id 960\n",
      "Broke for id 987\n",
      "Broke for id 1047\n",
      "Broke for id 1211\n",
      "Broke for id 1331\n",
      "Broke for id 1380\n",
      "Broke for id 1488\n",
      "Broke for id 1508\n",
      "Broke for id 1523\n",
      "Broke for id 1547\n",
      "Broke for id 1552\n",
      "Broke for id 1557\n",
      "Broke for id 1634\n",
      "Broke for id 1662\n",
      "Broke for id 1704\n",
      "Broke for id 1719\n",
      "Broke for id 1746\n",
      "Broke for id 1815\n",
      "Broke for id 1819\n",
      "Broke for id 1927\n",
      "Broke for id 1954\n"
     ]
    }
   ],
   "source": [
    "res = {}\n",
    "for i, row in tqdm(df.iterrows(), total=len(df)):\n",
    "    try:\n",
    "        text = row['review']\n",
    "        my_id = row['index']\n",
    "        \n",
    "        res[my_id] = sent_pipeline(text)   \n",
    "    \n",
    "    except RuntimeError:\n",
    "        print(f'Broke for id {my_id}')"
   ]
  },
  {
   "cell_type": "code",
   "execution_count": 145,
   "metadata": {},
   "outputs": [],
   "source": [
    "data_list = [item[0] for item in res.values()]\n",
    "df_res = pd.DataFrame(data_list).reset_index()"
   ]
  },
  {
   "cell_type": "code",
   "execution_count": 146,
   "metadata": {},
   "outputs": [],
   "source": [
    "df_trans = df.merge(df_res, how='left')"
   ]
  },
  {
   "cell_type": "code",
   "execution_count": 147,
   "metadata": {},
   "outputs": [
    {
     "data": {
      "image/png": "[encoded data removed]",
      "text/plain": [
       "<Figure size 1500x500 with 2 Axes>"
      ]
     },
     "metadata": {},
     "output_type": "display_data"
    }
   ],
   "source": [
    "pos = df_trans[df_trans['label'] == 'POSITIVE' ]\n",
    "neg = df_trans[df_trans['label'] == 'NEGATIVE']\n",
    "\n",
    "df_pos = pos[['vote', 'label']].groupby('vote').count().reset_index()\n",
    "df_neg = neg[['vote', 'label']].groupby('vote').count().reset_index()\n",
    "\n",
    "fig, axs = plt.subplots(1, 2, figsize=(15,5))\n",
    "sns.barplot(data=df_pos, x='vote', y='label', ax=axs[0]);\n",
    "sns.barplot(data=df_neg, x='vote', y='label', ax=axs[1]);\n",
    "axs[0].set_title('Votes vs POSITIVE')\n",
    "axs[1].set_title('Votes vs NEGATIVE')\n",
    "plt.tight_layout()"
   ]
  },
  {
   "cell_type": "code",
   "execution_count": 137,
   "metadata": {},
   "outputs": [
    {
     "data": {
      "text/plain": [
       "(430, 1487)"
      ]
     },
     "execution_count": 137,
     "metadata": {},
     "output_type": "execute_result"
    }
   ],
   "source": [
    "len(neg), len(pos)"
   ]
  },
  {
   "cell_type": "markdown",
   "metadata": {},
   "source": [
    "### Roberta"
   ]
  },
  {
   "cell_type": "code",
   "execution_count": 156,
   "metadata": {},
   "outputs": [],
   "source": [
    "# Define the model\n",
    "MODEL = f\"cardiffnlp/twitter-roberta-base-sentiment\"\n",
    "tokenizer = AutoTokenizer.from_pretrained(MODEL)\n",
    "model = AutoModelForSequenceClassification.from_pretrained(MODEL)"
   ]
  },
  {
   "cell_type": "code",
   "execution_count": 157,
   "metadata": {},
   "outputs": [],
   "source": [
    "def polarity_scores_roberta(example):\n",
    "    encoded_text = tokenizer(example, return_tensors='pt')\n",
    "    output = model(**encoded_text)\n",
    "    scores = output[0][0].detach().numpy()\n",
    "    scores = softmax(scores)\n",
    "    scores_dict = {\n",
    "        'roberta_neg': scores[0],\n",
    "        'roberta_neu': scores[1],\n",
    "        'roberta_pos': scores[2]\n",
    "    }\n",
    "    return scores_dict"
   ]
  },
  {
   "cell_type": "code",
   "execution_count": 158,
   "metadata": {},
   "outputs": [
    {
     "data": {
      "application/vnd.jupyter.widget-view+json": {
       "model_id": "7ad4a71cb0c34864b60bba5bc0201357",
       "version_major": 2,
       "version_minor": 0
      },
      "text/plain": [
       "  0%|          | 0/1963 [00:00<?, ?it/s]"
      ]
     },
     "metadata": {},
     "output_type": "display_data"
    },
    {
     "name": "stdout",
     "output_type": "stream",
     "text": [
      "Broke for id 20\n",
      "Broke for id 43\n",
      "Broke for id 77\n",
      "Broke for id 146\n",
      "Broke for id 147\n",
      "Broke for id 184\n",
      "Broke for id 285\n"
     ]
    }
   ],
   "source": [
    "res = {}\n",
    "for i, row in tqdm(df.iterrows(), total=len(df)):\n",
    "    try:\n",
    "        text = row['review']\n",
    "        myid = row['index']\n",
    "        vader_result = sia.polarity_scores(text)\n",
    "        vader_result_rename = {}\n",
    "        for key, value in vader_result.items():\n",
    "            vader_result_rename[f\"vader_{key}\"] = value\n",
    "        roberta_result = polarity_scores_roberta(text)\n",
    "        both = {**vader_result_rename, **roberta_result}\n",
    "        res[myid] = both\n",
    "    except RuntimeError:\n",
    "        print(f'Broke for id {myid}')"
   ]
  },
  {
   "cell_type": "code",
   "execution_count": null,
   "metadata": {},
   "outputs": [],
   "source": [
    "results_df = pd.DataFrame(res).T\n",
    "results_df = results_df.reset_index()\n",
    "results_df = results_df.merge(df, how='left')"
   ]
  }
 ],
 "metadata": {
  "kernelspec": {
   "display_name": "paenv",
   "language": "python",
   "name": "python3"
  },
  "language_info": {
   "codemirror_mode": {
    "name": "ipython",
    "version": 3
   },
   "file_extension": ".py",
   "mimetype": "text/x-python",
   "name": "python",
   "nbconvert_exporter": "python",
   "pygments_lexer": "ipython3",
   "version": "3.11.4"
  },
  "orig_nbformat": 4
 },
 "nbformat": 4,
 "nbformat_minor": 2
}
