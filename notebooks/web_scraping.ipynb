{
 "cells": [
  {
   "cell_type": "markdown",
   "metadata": {},
   "source": [
    "### Imports"
   ]
  },
  {
   "cell_type": "code",
   "execution_count": 203,
   "metadata": {},
   "outputs": [],
   "source": [
    "import requests\n",
    "import pandas as pd\n",
    "import torch\n",
    "from bs4 import BeautifulSoup\n",
    "from tqdm import tqdm  # Import tqdm for the progress bar\n",
    "\n",
    "from transformers import AutoTokenizer,AutoModelForSequenceClassification\n",
    "import seaborn as sns\n",
    "\n",
    "import re\n",
    "\n",
    "import nltk\n",
    "from nltk.sentiment import SentimentIntensityAnalyzer\n",
    "from tqdm.notebook import tqdm\n",
    "from transformers import AutoTokenizer, AutoModelForSequenceClassification, pipeline\n",
    "from scipy.special import softmax\n",
    "\n",
    "import numpy as np\n",
    "from sklearn.metrics import precision_score"
   ]
  },
  {
   "cell_type": "markdown",
   "metadata": {},
   "source": [
    "### Scraping data"
   ]
  },
  {
   "cell_type": "code",
   "execution_count": 187,
   "metadata": {},
   "outputs": [
    {
     "name": "stdout",
     "output_type": "stream",
     "text": [
      "1963 reviews scraped in total.\n"
     ]
    }
   ],
   "source": [
    "\n",
    "#pages = [20, 30, 40, 50, 60, 70, 80]\n",
    "pages = list(range(20, 1600, 10))\n",
    "reviews = []\n",
    "\n",
    "\n",
    "for page in pages:\n",
    "    # Construct the URL with the 'start' parameter\n",
    "    url = f'https://www.yelp.com/biz/fogo-de-chão-brazilian-steakhouse-san-diego-3?start={page}'\n",
    "\n",
    "    r = requests.get(url)\n",
    "    soup = BeautifulSoup(r.text, 'html.parser')\n",
    "    \n",
    "    # getting comments\n",
    "    regex = re.compile('.*comment.*')\n",
    "    results = soup.find_all('p', {'class': regex})\n",
    "\n",
    "    # getting stars\n",
    "    regex_stars = re.compile('.*stars.*')\n",
    "    ratings = soup.find_all('div', {'class': regex_stars})\n",
    "    \n",
    "    # Iterate elements to pair\n",
    "    for result, rating in zip(results, ratings):\n",
    "        rating_text = rating.get_text(strip=True)\n",
    "        \n",
    "        if re.match(r'^\\d+(\\.\\d+)?$', rating_text):\n",
    "            number = '0'\n",
    "\n",
    "        else:\n",
    "            aria_label = rating['aria-label']\n",
    "            number = (aria_label.split()[0])\n",
    "\n",
    "        # append\n",
    "        reviews.append((result.text, number))\n",
    "    \n",
    "\n",
    "# 'reviews' now contains reviews from multiple pages\n",
    "print(len(reviews), 'reviews scraped in total.')\n"
   ]
  },
  {
   "cell_type": "code",
   "execution_count": 218,
   "metadata": {},
   "outputs": [],
   "source": [
    "soup = BeautifulSoup(r.text, 'html.parser')\n",
    "regex_date = re.compile(' css-chan6m')\n",
    "dates = soup.find_all('span', {'class': regex_date})"
   ]
  },
  {
   "cell_type": "code",
   "execution_count": 220,
   "metadata": {},
   "outputs": [
    {
     "data": {
      "text/plain": [
       "<span class=\"fixed-size-text__09f24__bUCrM fixed-size-text--small__09f24__Bc2oE css-chan6m\"><span class=\"\"><span itemprop=\"reviewCount\">2758</span></span></span>"
      ]
     },
     "execution_count": 220,
     "metadata": {},
     "output_type": "execute_result"
    }
   ],
   "source": [
    "da"
   ]
  },
  {
   "cell_type": "code",
   "execution_count": 188,
   "metadata": {},
   "outputs": [],
   "source": [
    "# load reviews into dataframe and score it\n",
    "df = pd.DataFrame(reviews, columns=['review', 'vote'])\n",
    "\n",
    "for i in range(len(df)):\n",
    "    if df.loc[i, 'vote'] == '(no':\n",
    "        df.loc[i, 'vote'] = '0'\n",
    "df['vote'] = df['vote'].astype(np.float64)"
   ]
  },
  {
   "cell_type": "markdown",
   "metadata": {},
   "source": [
    "### Bert Multilingual Model"
   ]
  },
  {
   "cell_type": "code",
   "execution_count": 194,
   "metadata": {},
   "outputs": [],
   "source": [
    "df_bert = df.copy()"
   ]
  },
  {
   "cell_type": "code",
   "execution_count": 195,
   "metadata": {},
   "outputs": [],
   "source": [
    "# Instantiate the Model\n",
    "tokenizer = AutoTokenizer.from_pretrained('nlptown/bert-base-multilingual-uncased-sentiment')\n",
    "model = AutoModelForSequenceClassification.from_pretrained('nlptown/bert-base-multilingual-uncased-sentiment')"
   ]
  },
  {
   "cell_type": "code",
   "execution_count": 196,
   "metadata": {},
   "outputs": [],
   "source": [
    "def sentiment_score(review):\n",
    "    tokens = tokenizer.encode(review, return_tensors='pt')\n",
    "    result = model(tokens)\n",
    "    return int(torch.argmax(result.logits))+1"
   ]
  },
  {
   "cell_type": "code",
   "execution_count": 197,
   "metadata": {},
   "outputs": [],
   "source": [
    "df_bert['sentiment'] = df_bert['review'].apply( lambda x: sentiment_score(x[:512]))"
   ]
  },
  {
   "cell_type": "code",
   "execution_count": 213,
   "metadata": {},
   "outputs": [
    {
     "data": {
      "image/png": "[encoded data removed]",
      "text/plain": [
       "<Figure size 500x500 with 1 Axes>"
      ]
     },
     "metadata": {},
     "output_type": "display_data"
    }
   ],
   "source": [
    "sns.displot(df_bert['sentiment']);"
   ]
  },
  {
   "cell_type": "code",
   "execution_count": 214,
   "metadata": {},
   "outputs": [
    {
     "data": {
      "image/png": "[encoded data removed]",
      "text/plain": [
       "<Figure size 640x480 with 1 Axes>"
      ]
     },
     "metadata": {},
     "output_type": "display_data"
    }
   ],
   "source": [
    "sns.barplot(x='sentiment', y='vote', data=df_bert);"
   ]
  },
  {
   "cell_type": "code",
   "execution_count": 222,
   "metadata": {},
   "outputs": [
    {
     "data": {
      "text/html": [
       "<div>\n",
       "<style scoped>\n",
       "    .dataframe tbody tr th:only-of-type {\n",
       "        vertical-align: middle;\n",
       "    }\n",
       "\n",
       "    .dataframe tbody tr th {\n",
       "        vertical-align: top;\n",
       "    }\n",
       "\n",
       "    .dataframe thead th {\n",
       "        text-align: right;\n",
       "    }\n",
       "</style>\n",
       "<table border=\"1\" class=\"dataframe\">\n",
       "  <thead>\n",
       "    <tr style=\"text-align: right;\">\n",
       "      <th></th>\n",
       "      <th>review</th>\n",
       "      <th>vote</th>\n",
       "      <th>sentiment</th>\n",
       "    </tr>\n",
       "  </thead>\n",
       "  <tbody>\n",
       "    <tr>\n",
       "      <th>0</th>\n",
       "      <td>A truly mediocre meal.  We went for Saturday b...</td>\n",
       "      <td>4.0</td>\n",
       "      <td>2</td>\n",
       "    </tr>\n",
       "    <tr>\n",
       "      <th>1</th>\n",
       "      <td>Serving exceptional meals is what we strive fo...</td>\n",
       "      <td>0.0</td>\n",
       "      <td>5</td>\n",
       "    </tr>\n",
       "    <tr>\n",
       "      <th>2</th>\n",
       "      <td>We found an amazing deal on instagram for a sp...</td>\n",
       "      <td>4.0</td>\n",
       "      <td>4</td>\n",
       "    </tr>\n",
       "    <tr>\n",
       "      <th>3</th>\n",
       "      <td>So we came downtown today to see a Filipino ar...</td>\n",
       "      <td>3.0</td>\n",
       "      <td>4</td>\n",
       "    </tr>\n",
       "    <tr>\n",
       "      <th>4</th>\n",
       "      <td>I had always heard of Fogo Dr Chão so I decide...</td>\n",
       "      <td>5.0</td>\n",
       "      <td>4</td>\n",
       "    </tr>\n",
       "    <tr>\n",
       "      <th>5</th>\n",
       "      <td>Fogo is a treat every few years. It's not wher...</td>\n",
       "      <td>4.0</td>\n",
       "      <td>4</td>\n",
       "    </tr>\n",
       "    <tr>\n",
       "      <th>6</th>\n",
       "      <td>Been coming to forgo de chao since they opened...</td>\n",
       "      <td>4.0</td>\n",
       "      <td>5</td>\n",
       "    </tr>\n",
       "    <tr>\n",
       "      <th>7</th>\n",
       "      <td>Always a great experience here every time I go...</td>\n",
       "      <td>4.0</td>\n",
       "      <td>5</td>\n",
       "    </tr>\n",
       "    <tr>\n",
       "      <th>8</th>\n",
       "      <td>Food is always good but the server David was o...</td>\n",
       "      <td>5.0</td>\n",
       "      <td>4</td>\n",
       "    </tr>\n",
       "    <tr>\n",
       "      <th>9</th>\n",
       "      <td>Mike the Chicken Guy was amazing!! His service...</td>\n",
       "      <td>5.0</td>\n",
       "      <td>5</td>\n",
       "    </tr>\n",
       "    <tr>\n",
       "      <th>10</th>\n",
       "      <td>Mike the chicken guy, Silvia and Angel were aw...</td>\n",
       "      <td>5.0</td>\n",
       "      <td>5</td>\n",
       "    </tr>\n",
       "    <tr>\n",
       "      <th>11</th>\n",
       "      <td>The food and service was great!! Whatever I ne...</td>\n",
       "      <td>5.0</td>\n",
       "      <td>5</td>\n",
       "    </tr>\n",
       "    <tr>\n",
       "      <th>12</th>\n",
       "      <td>This is an update to my update, regarding the ...</td>\n",
       "      <td>5.0</td>\n",
       "      <td>1</td>\n",
       "    </tr>\n",
       "    <tr>\n",
       "      <th>13</th>\n",
       "      <td>Hi Mario, we're happy to hear that our team wa...</td>\n",
       "      <td>5.0</td>\n",
       "      <td>5</td>\n",
       "    </tr>\n",
       "    <tr>\n",
       "      <th>14</th>\n",
       "      <td>This review is an update, to my Father's Day r...</td>\n",
       "      <td>1.0</td>\n",
       "      <td>4</td>\n",
       "    </tr>\n",
       "    <tr>\n",
       "      <th>15</th>\n",
       "      <td>This rating is specifically for today.... Fath...</td>\n",
       "      <td>1.0</td>\n",
       "      <td>1</td>\n",
       "    </tr>\n",
       "    <tr>\n",
       "      <th>16</th>\n",
       "      <td>Last night was my first night going to this pl...</td>\n",
       "      <td>1.0</td>\n",
       "      <td>3</td>\n",
       "    </tr>\n",
       "    <tr>\n",
       "      <th>17</th>\n",
       "      <td>Erica, while we're glad you enjoyed the servic...</td>\n",
       "      <td>3.0</td>\n",
       "      <td>5</td>\n",
       "    </tr>\n",
       "    <tr>\n",
       "      <th>18</th>\n",
       "      <td>I would rated 2 stars, but Mike bumped it up 1...</td>\n",
       "      <td>4.0</td>\n",
       "      <td>2</td>\n",
       "    </tr>\n",
       "    <tr>\n",
       "      <th>19</th>\n",
       "      <td>Audrey, your anniversary celebration should ha...</td>\n",
       "      <td>0.0</td>\n",
       "      <td>5</td>\n",
       "    </tr>\n",
       "    <tr>\n",
       "      <th>20</th>\n",
       "      <td>I used to go here for every occasions from bir...</td>\n",
       "      <td>4.0</td>\n",
       "      <td>3</td>\n",
       "    </tr>\n",
       "    <tr>\n",
       "      <th>21</th>\n",
       "      <td>Gary, we are disappointed to hear that your vi...</td>\n",
       "      <td>3.0</td>\n",
       "      <td>3</td>\n",
       "    </tr>\n",
       "    <tr>\n",
       "      <th>22</th>\n",
       "      <td>18$ lunch price for an extensive unlimited sal...</td>\n",
       "      <td>3.0</td>\n",
       "      <td>4</td>\n",
       "    </tr>\n",
       "    <tr>\n",
       "      <th>23</th>\n",
       "      <td>Costumer service of big mike is above and behi...</td>\n",
       "      <td>5.0</td>\n",
       "      <td>5</td>\n",
       "    </tr>\n",
       "    <tr>\n",
       "      <th>24</th>\n",
       "      <td>Food was awesome as always, my favorite was th...</td>\n",
       "      <td>5.0</td>\n",
       "      <td>5</td>\n",
       "    </tr>\n",
       "    <tr>\n",
       "      <th>25</th>\n",
       "      <td>We came here for my son's birthday. Everyone w...</td>\n",
       "      <td>5.0</td>\n",
       "      <td>5</td>\n",
       "    </tr>\n",
       "    <tr>\n",
       "      <th>26</th>\n",
       "      <td>I have been coming here since it opened. My la...</td>\n",
       "      <td>5.0</td>\n",
       "      <td>2</td>\n",
       "    </tr>\n",
       "    <tr>\n",
       "      <th>27</th>\n",
       "      <td>Kylie, we love being your favorite restaurant ...</td>\n",
       "      <td>3.0</td>\n",
       "      <td>5</td>\n",
       "    </tr>\n",
       "    <tr>\n",
       "      <th>28</th>\n",
       "      <td>First time trying Fogo de Chao and I loved the...</td>\n",
       "      <td>4.0</td>\n",
       "      <td>4</td>\n",
       "    </tr>\n",
       "    <tr>\n",
       "      <th>29</th>\n",
       "      <td>Fogo de Chao $39 special (B-)So I went for thi...</td>\n",
       "      <td>3.0</td>\n",
       "      <td>3</td>\n",
       "    </tr>\n",
       "    <tr>\n",
       "      <th>30</th>\n",
       "      <td>It is disappointing to know that we did not me...</td>\n",
       "      <td>3.0</td>\n",
       "      <td>3</td>\n",
       "    </tr>\n",
       "    <tr>\n",
       "      <th>31</th>\n",
       "      <td>This was an interesting experience that I have...</td>\n",
       "      <td>4.0</td>\n",
       "      <td>4</td>\n",
       "    </tr>\n",
       "    <tr>\n",
       "      <th>32</th>\n",
       "      <td>We aim to serve high-quality cuts, Jake, and w...</td>\n",
       "      <td>4.5</td>\n",
       "      <td>5</td>\n",
       "    </tr>\n",
       "    <tr>\n",
       "      <th>33</th>\n",
       "      <td>I'm not happy for today visit.The waiting time...</td>\n",
       "      <td>4.0</td>\n",
       "      <td>2</td>\n",
       "    </tr>\n",
       "    <tr>\n",
       "      <th>34</th>\n",
       "      <td>We are saddened by your feedback, as we always...</td>\n",
       "      <td>0.0</td>\n",
       "      <td>5</td>\n",
       "    </tr>\n",
       "    <tr>\n",
       "      <th>35</th>\n",
       "      <td>When you are in a Brazilian steakhouse, and th...</td>\n",
       "      <td>4.0</td>\n",
       "      <td>1</td>\n",
       "    </tr>\n",
       "    <tr>\n",
       "      <th>36</th>\n",
       "      <td>Providing attentive and efficient service is a...</td>\n",
       "      <td>2.0</td>\n",
       "      <td>5</td>\n",
       "    </tr>\n",
       "    <tr>\n",
       "      <th>37</th>\n",
       "      <td>Decided to visited this place since we're in S...</td>\n",
       "      <td>2.0</td>\n",
       "      <td>5</td>\n",
       "    </tr>\n",
       "    <tr>\n",
       "      <th>38</th>\n",
       "      <td>This place was quite a let down after seeing s...</td>\n",
       "      <td>5.0</td>\n",
       "      <td>2</td>\n",
       "    </tr>\n",
       "    <tr>\n",
       "      <th>39</th>\n",
       "      <td>We never want to hear that we let down one of ...</td>\n",
       "      <td>1.0</td>\n",
       "      <td>5</td>\n",
       "    </tr>\n",
       "    <tr>\n",
       "      <th>40</th>\n",
       "      <td>Had reservations for 7:45, was seated at 8:15,...</td>\n",
       "      <td>1.0</td>\n",
       "      <td>1</td>\n",
       "    </tr>\n",
       "    <tr>\n",
       "      <th>41</th>\n",
       "      <td>Nassim, providing prompt and efficient service...</td>\n",
       "      <td>4.0</td>\n",
       "      <td>5</td>\n",
       "    </tr>\n",
       "    <tr>\n",
       "      <th>42</th>\n",
       "      <td>3.5 for sure!The chicken was really tasty, but...</td>\n",
       "      <td>1.0</td>\n",
       "      <td>3</td>\n",
       "    </tr>\n",
       "    <tr>\n",
       "      <th>43</th>\n",
       "      <td>Where do I begin, our reservation was for 6:15...</td>\n",
       "      <td>3.0</td>\n",
       "      <td>4</td>\n",
       "    </tr>\n",
       "    <tr>\n",
       "      <th>44</th>\n",
       "      <td>Our team is disappointed that you did not have...</td>\n",
       "      <td>5.0</td>\n",
       "      <td>2</td>\n",
       "    </tr>\n",
       "    <tr>\n",
       "      <th>45</th>\n",
       "      <td>The food was good all you can desire meats are...</td>\n",
       "      <td>5.0</td>\n",
       "      <td>4</td>\n",
       "    </tr>\n",
       "    <tr>\n",
       "      <th>46</th>\n",
       "      <td>Christina, please know we value your support a...</td>\n",
       "      <td>4.0</td>\n",
       "      <td>1</td>\n",
       "    </tr>\n",
       "    <tr>\n",
       "      <th>47</th>\n",
       "      <td>I've been here 2 times and the most recent was...</td>\n",
       "      <td>4.5</td>\n",
       "      <td>4</td>\n",
       "    </tr>\n",
       "    <tr>\n",
       "      <th>48</th>\n",
       "      <td>Food was fabulous!Ambiance perfect!But Andrea ...</td>\n",
       "      <td>4.0</td>\n",
       "      <td>5</td>\n",
       "    </tr>\n",
       "    <tr>\n",
       "      <th>49</th>\n",
       "      <td>The food here is delicious , as a vegetarian I...</td>\n",
       "      <td>4.0</td>\n",
       "      <td>4</td>\n",
       "    </tr>\n",
       "  </tbody>\n",
       "</table>\n",
       "</div>"
      ],
      "text/plain": [
       "                                               review  vote  sentiment\n",
       "0   A truly mediocre meal.  We went for Saturday b...   4.0          2\n",
       "1   Serving exceptional meals is what we strive fo...   0.0          5\n",
       "2   We found an amazing deal on instagram for a sp...   4.0          4\n",
       "3   So we came downtown today to see a Filipino ar...   3.0          4\n",
       "4   I had always heard of Fogo Dr Chão so I decide...   5.0          4\n",
       "5   Fogo is a treat every few years. It's not wher...   4.0          4\n",
       "6   Been coming to forgo de chao since they opened...   4.0          5\n",
       "7   Always a great experience here every time I go...   4.0          5\n",
       "8   Food is always good but the server David was o...   5.0          4\n",
       "9   Mike the Chicken Guy was amazing!! His service...   5.0          5\n",
       "10  Mike the chicken guy, Silvia and Angel were aw...   5.0          5\n",
       "11  The food and service was great!! Whatever I ne...   5.0          5\n",
       "12  This is an update to my update, regarding the ...   5.0          1\n",
       "13  Hi Mario, we're happy to hear that our team wa...   5.0          5\n",
       "14  This review is an update, to my Father's Day r...   1.0          4\n",
       "15  This rating is specifically for today.... Fath...   1.0          1\n",
       "16  Last night was my first night going to this pl...   1.0          3\n",
       "17  Erica, while we're glad you enjoyed the servic...   3.0          5\n",
       "18  I would rated 2 stars, but Mike bumped it up 1...   4.0          2\n",
       "19  Audrey, your anniversary celebration should ha...   0.0          5\n",
       "20  I used to go here for every occasions from bir...   4.0          3\n",
       "21  Gary, we are disappointed to hear that your vi...   3.0          3\n",
       "22  18$ lunch price for an extensive unlimited sal...   3.0          4\n",
       "23  Costumer service of big mike is above and behi...   5.0          5\n",
       "24  Food was awesome as always, my favorite was th...   5.0          5\n",
       "25  We came here for my son's birthday. Everyone w...   5.0          5\n",
       "26  I have been coming here since it opened. My la...   5.0          2\n",
       "27  Kylie, we love being your favorite restaurant ...   3.0          5\n",
       "28  First time trying Fogo de Chao and I loved the...   4.0          4\n",
       "29  Fogo de Chao $39 special (B-)So I went for thi...   3.0          3\n",
       "30  It is disappointing to know that we did not me...   3.0          3\n",
       "31  This was an interesting experience that I have...   4.0          4\n",
       "32  We aim to serve high-quality cuts, Jake, and w...   4.5          5\n",
       "33  I'm not happy for today visit.The waiting time...   4.0          2\n",
       "34  We are saddened by your feedback, as we always...   0.0          5\n",
       "35  When you are in a Brazilian steakhouse, and th...   4.0          1\n",
       "36  Providing attentive and efficient service is a...   2.0          5\n",
       "37  Decided to visited this place since we're in S...   2.0          5\n",
       "38  This place was quite a let down after seeing s...   5.0          2\n",
       "39  We never want to hear that we let down one of ...   1.0          5\n",
       "40  Had reservations for 7:45, was seated at 8:15,...   1.0          1\n",
       "41  Nassim, providing prompt and efficient service...   4.0          5\n",
       "42  3.5 for sure!The chicken was really tasty, but...   1.0          3\n",
       "43  Where do I begin, our reservation was for 6:15...   3.0          4\n",
       "44  Our team is disappointed that you did not have...   5.0          2\n",
       "45  The food was good all you can desire meats are...   5.0          4\n",
       "46  Christina, please know we value your support a...   4.0          1\n",
       "47  I've been here 2 times and the most recent was...   4.5          4\n",
       "48  Food was fabulous!Ambiance perfect!But Andrea ...   4.0          5\n",
       "49  The food here is delicious , as a vegetarian I...   4.0          4"
      ]
     },
     "execution_count": 222,
     "metadata": {},
     "output_type": "execute_result"
    }
   ],
   "source": [
    "df_bert.head(50)"
   ]
  },
  {
   "cell_type": "code",
   "execution_count": 211,
   "metadata": {},
   "outputs": [],
   "source": [
    "actual_rating = np.array([4. , 3. , 5. , 1. , 2.])\n",
    "predicted_sentiment = np.array([2, 5, 4, 1, 3])\n",
    "\n",
    "threshold = 3.5\n",
    "\n",
    "predicted_positive = (predicted_sentiment >= threshold).astype(int)\n",
    "\n",
    "precision = precision_score(actual_rating >= threshold, predicted_positive)"
   ]
  },
  {
   "cell_type": "code",
   "execution_count": 212,
   "metadata": {},
   "outputs": [
    {
     "data": {
      "text/plain": [
       "0.5"
      ]
     },
     "execution_count": 212,
     "metadata": {},
     "output_type": "execute_result"
    }
   ],
   "source": [
    "precision"
   ]
  },
  {
   "cell_type": "code",
   "execution_count": 208,
   "metadata": {},
   "outputs": [
    {
     "data": {
      "text/plain": [
       "array([4. , 0. , 3. , 5. , 1. , 4.5, 2. ])"
      ]
     },
     "execution_count": 208,
     "metadata": {},
     "output_type": "execute_result"
    }
   ],
   "source": [
    "df_bert['vote'].unique()"
   ]
  },
  {
   "cell_type": "code",
   "execution_count": 209,
   "metadata": {},
   "outputs": [
    {
     "data": {
      "text/plain": [
       "array([2, 5, 4, 1, 3])"
      ]
     },
     "execution_count": 209,
     "metadata": {},
     "output_type": "execute_result"
    }
   ],
   "source": [
    "df_bert['sentiment'].unique()"
   ]
  },
  {
   "cell_type": "markdown",
   "metadata": {},
   "source": [
    "### VADER Model"
   ]
  },
  {
   "cell_type": "code",
   "execution_count": null,
   "metadata": {},
   "outputs": [],
   "source": [
    "df_vader = df.copy().reset_index()"
   ]
  },
  {
   "cell_type": "code",
   "execution_count": null,
   "metadata": {},
   "outputs": [],
   "source": [
    "df_vader.head()"
   ]
  },
  {
   "cell_type": "code",
   "execution_count": null,
   "metadata": {},
   "outputs": [],
   "source": [
    "# Initate the model\n",
    "sia = SentimentIntensityAnalyzer()\n",
    "res = {}\n",
    "\n",
    "for i, row in tqdm(df_vader.iterrows(), total=len(df_vader)):\n",
    "    text = row['review']\n",
    "    my_id = row['index']\n",
    "    res[my_id] = sia.polarity_scores(text)"
   ]
  },
  {
   "cell_type": "code",
   "execution_count": null,
   "metadata": {},
   "outputs": [],
   "source": [
    "vaders = pd.DataFrame(res).T\n",
    "vaders = vaders.reset_index()\n",
    "vader = vaders.merge(df_vader, how='left')"
   ]
  },
  {
   "cell_type": "code",
   "execution_count": null,
   "metadata": {},
   "outputs": [],
   "source": [
    "vader.head()"
   ]
  },
  {
   "cell_type": "markdown",
   "metadata": {},
   "source": [
    "### Compare both models"
   ]
  },
  {
   "cell_type": "code",
   "execution_count": null,
   "metadata": {},
   "outputs": [],
   "source": [
    "df_bert = df_bert.reset_index()"
   ]
  },
  {
   "cell_type": "code",
   "execution_count": null,
   "metadata": {},
   "outputs": [],
   "source": [
    "df_bert.head()"
   ]
  },
  {
   "cell_type": "code",
   "execution_count": null,
   "metadata": {},
   "outputs": [],
   "source": [
    "vader.head()"
   ]
  },
  {
   "cell_type": "code",
   "execution_count": null,
   "metadata": {},
   "outputs": [],
   "source": [
    "df_final = vader.merge(df_bert, how='inner')"
   ]
  },
  {
   "cell_type": "code",
   "execution_count": null,
   "metadata": {},
   "outputs": [],
   "source": [
    "df_final.head()"
   ]
  },
  {
   "cell_type": "code",
   "execution_count": null,
   "metadata": {},
   "outputs": [],
   "source": [
    "df_final.iloc[2]['review']"
   ]
  }
 ],
 "metadata": {
  "kernelspec": {
   "display_name": "paenv",
   "language": "python",
   "name": "python3"
  },
  "language_info": {
   "codemirror_mode": {
    "name": "ipython",
    "version": 3
   },
   "file_extension": ".py",
   "mimetype": "text/x-python",
   "name": "python",
   "nbconvert_exporter": "python",
   "pygments_lexer": "ipython3",
   "version": "3.11.4"
  },
  "orig_nbformat": 4
 },
 "nbformat": 4,
 "nbformat_minor": 2
}
